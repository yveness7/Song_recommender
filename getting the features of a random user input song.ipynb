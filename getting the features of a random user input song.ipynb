{
 "cells": [
  {
   "cell_type": "markdown",
   "id": "5725de6d",
   "metadata": {},
   "source": [
    "# load hot songs"
   ]
  },
  {
   "cell_type": "code",
   "execution_count": 68,
   "id": "ecef0e91",
   "metadata": {},
   "outputs": [],
   "source": [
    "import pandas as pd\n",
    "url1 = 'https://raw.githubusercontent.com/yveness7/IronHackIvet/main/Week%206/day%201/100hot.csv'\n",
    "url2 = 'https://raw.githubusercontent.com/yveness7/IronHackIvet/main/Week%206/day%201/genres.csv'\n",
    "hot = pd.read_csv(url1)\n",
    "genres = pd.read_csv(url2)\n",
    "songs = hot['songs'] \n"
   ]
  },
  {
   "cell_type": "markdown",
   "id": "cf21820a",
   "metadata": {},
   "source": [
    "## recommendation block without fuzzy"
   ]
  },
  {
   "cell_type": "code",
   "execution_count": 61,
   "id": "8edcbb8b",
   "metadata": {},
   "outputs": [
    {
     "name": "stdout",
     "output_type": "stream",
     "text": [
      "Please enter a song name: cruel summer\n",
      "Hey Driver\n"
     ]
    }
   ],
   "source": [
    "import random\n",
    "#songs = hot['songs']\n",
    "def song_recommender(user_input, songs):\n",
    "    songs = hot['songs'] \n",
    "    lowercase_songs = [song.lower() for song in songs]  \n",
    "    if user_input in lowercase_songs:\n",
    "        return random.choice(songs)\n",
    "    else:\n",
    "        return 'No recommendation available!'\n",
    "    \n",
    "\n",
    "user_input = input(\"Please enter a song name: \").lower()\n",
    "\n",
    "print(song_recommender(user_input, songs))"
   ]
  },
  {
   "cell_type": "markdown",
   "id": "d1f88998",
   "metadata": {},
   "source": [
    "## play song function"
   ]
  },
  {
   "cell_type": "code",
   "execution_count": 65,
   "id": "22226a4a",
   "metadata": {},
   "outputs": [],
   "source": [
    "def play_song(track_id):\n",
    "    return IFrame(src=\"https://open.spotify.com/embed/track/\"+track_id,\n",
    "       width=\"320\",\n",
    "       height=\"80\",\n",
    "       frameborder=\"0\",\n",
    "       allowtransparency=\"true\",\n",
    "       allow=\"encrypted-media\",\n",
    "      )\n"
   ]
  },
  {
   "cell_type": "code",
   "execution_count": null,
   "id": "97962089",
   "metadata": {},
   "outputs": [],
   "source": [
    "track_id = results[\"tracks\"][\"items\"][0][\"id\"]"
   ]
  },
  {
   "cell_type": "markdown",
   "id": "14774ec1",
   "metadata": {},
   "source": [
    "## add the fuzzywuzzy"
   ]
  },
  {
   "cell_type": "code",
   "execution_count": null,
   "id": "77192dc5",
   "metadata": {},
   "outputs": [],
   "source": []
  },
  {
   "cell_type": "code",
   "execution_count": 75,
   "id": "6ec520a0",
   "metadata": {},
   "outputs": [
    {
     "name": "stdout",
     "output_type": "stream",
     "text": [
      "Please enter a song name: to carry the flame\n",
      "Smurk Carter\n"
     ]
    }
   ],
   "source": [
    "from joblib import load\n",
    "import pandas as pd\n",
    "import random\n",
    "from fuzzywuzzy import process\n",
    "\n",
    "def song_recommender(user_input, songs):\n",
    "    #songs = hot['songs'] \n",
    "    closest_match,match_score = process.extractOne(user_input.lower(), [song.lower() for song in songs])\n",
    "    threshold = 50      #can lower the theasho\n",
    "    if match_score >= threshold:\n",
    "        return random.choice(songs)\n",
    "    else:\n",
    "        results = sp.search(q=user_input,limit=5,market=\"GB\") #top 5 songs \n",
    "        track_id = results[\"tracks\"][\"items\"][0][\"id\"] #results\n",
    "        features = sp.audio_features(track_id) #get the features of the song \n",
    "        df_user_features = pd.DataFrame(features) #turn it to a dataframe\n",
    "        numeric_user_features = df_user_features[['danceability','energy','liveness','loudness','tempo',\n",
    "                               'speechiness','valence','acousticness']] #keep the columns that i need \n",
    "        \n",
    "        newscaler = load('newscaler.pickle') #load the scaler\n",
    "        scaled_features = newscaler.transform(numeric_user_features) #scale features\n",
    "        scaled_features_df = pd.DataFrame(scaled_features) #turn scaled song features into dataframe\n",
    "        kmeans = load(filename = 'stotify_model.pickle') #load model \n",
    "        predicted_cluster = kmeans.predict(scaled_features)[0] #get the cluster the user song is \n",
    "        X = pd.read_csv('genre_df.csv')  #load the file with the genres \n",
    "        new_recommended = X[X['cluster']==predicted_cluster].sample() #get a song recommendation \n",
    "        next_song = new_recommended['id'].values[0] #save the id of the song \n",
    "        \n",
    "        return next_song\n",
    "\n",
    "#user_input = input(\"Please enter a song name: \").lower()\n",
    "\n",
    "#print(song_recommender(user_input, songs))\n",
    "    \n",
    "    \n",
    "    \n",
    "\n"
   ]
  },
  {
   "cell_type": "code",
   "execution_count": 82,
   "id": "ea920b7b",
   "metadata": {},
   "outputs": [],
   "source": [
    "def play_song(next_song):\n",
    "    return IFrame(src=\"https://open.spotify.com/embed/track/\"+track_id,\n",
    "       width=\"320\",\n",
    "       height=\"80\",\n",
    "       frameborder=\"0\",\n",
    "       allowtransparency=\"true\",\n",
    "       allow=\"encrypted-media\",\n",
    "      )\n",
    "\n",
    "    return play_song(next_song)"
   ]
  },
  {
   "cell_type": "code",
   "execution_count": 94,
   "id": "a9510e6e",
   "metadata": {},
   "outputs": [
    {
     "name": "stdout",
     "output_type": "stream",
     "text": [
      "Please enter a song name: what\n",
      "Try That In A Small Town\n"
     ]
    }
   ],
   "source": [
    "user_input = input(\"Please enter a song name: \").lower()\n",
    "next_song = song_recommender(user_input, songs)\n",
    "print(song_recommender(user_input, songs))\n",
    "#display(play_song(next_song))"
   ]
  },
  {
   "cell_type": "code",
   "execution_count": null,
   "id": "11f7512e",
   "metadata": {},
   "outputs": [],
   "source": []
  },
  {
   "cell_type": "code",
   "execution_count": null,
   "id": "ec139f6a",
   "metadata": {},
   "outputs": [],
   "source": []
  },
  {
   "cell_type": "code",
   "execution_count": null,
   "id": "2860def9",
   "metadata": {},
   "outputs": [],
   "source": []
  },
  {
   "cell_type": "code",
   "execution_count": 69,
   "id": "ee8463fd",
   "metadata": {},
   "outputs": [
    {
     "name": "stdout",
     "output_type": "stream",
     "text": [
      "please enter a songCruel Summer\n",
      "sorry not hot\n"
     ]
    }
   ],
   "source": [
    "#I need to fix the loop so it can find the song in hot \n",
    "user_input = input('please enter a song' )\n",
    "if user_input in songs:\n",
    "    print('its a match')\n",
    "    rec_song = random.choice(songs)\n",
    "    results_for_user = sp.search(q=rec_song)\n",
    "    track_id = results_for_user[\"tracks\"][\"items\"][0][\"id\"]\n",
    "    play_song(play_song(track_id))\n",
    "    \n",
    "else: \n",
    "    print('sorry not hot')"
   ]
  },
  {
   "cell_type": "markdown",
   "id": "0b124cee",
   "metadata": {},
   "source": [
    "## test"
   ]
  },
  {
   "cell_type": "code",
   "execution_count": null,
   "id": "895d0238",
   "metadata": {},
   "outputs": [],
   "source": []
  },
  {
   "cell_type": "code",
   "execution_count": 33,
   "id": "185e68f0",
   "metadata": {},
   "outputs": [
    {
     "name": "stdout",
     "output_type": "stream",
     "text": [
      "please enter a song: lover\n"
     ]
    }
   ],
   "source": [
    "user_input = input('please enter a song: ')"
   ]
  },
  {
   "cell_type": "code",
   "execution_count": null,
   "id": "7d43e3d5",
   "metadata": {},
   "outputs": [],
   "source": [
    "import config\n",
    "    import random\n",
    "    from IPython.display import IFrame\n",
    "    import spotipy\n",
    "    import pandas as pd\n",
    "    import json\n",
    "    from spotipy.oauth2 import SpotifyClientCredentials"
   ]
  },
  {
   "cell_type": "code",
   "execution_count": 70,
   "id": "e2062831",
   "metadata": {},
   "outputs": [],
   "source": [
    "def spotify_configure():\n",
    "\n",
    "    \n",
    "    #Initialize SpotiPy with user credentials\n",
    "    return spotipy.Spotify(auth_manager=SpotifyClientCredentials(client_id= config.client_id,\n",
    "                                                           client_secret= config.client_secret))\n",
    "\n",
    "\n",
    "    results = sp.search(q=user_input,limit=5,market=\"GB\") #top 5 songs \n",
    "    track_id = results[\"tracks\"][\"items\"][0][\"id\"] #results\n",
    "    features = sp.audio_features(track_id) #get the features of the song \n",
    "    df_user_features = pd.DataFrame(features) #turn it to a dataframe\n",
    "    numeric_user_features = df_user_features[['danceability','energy','liveness','loudness','tempo',\n",
    "                               'speechiness','valence','acousticness']] #keep the columns that i need \n",
    "    \n",
    "    #we need to load the scaler and apply it on the 'numeric_user_features'\n",
    "    \n",
    "    newscaler = load('newscaler.pickle')\n",
    "    \n",
    "    scaled_features = newscaler.trasnform(numeric_user_features)\n",
    "    \n",
    "    \n",
    "    \n",
    "    \n"
   ]
  },
  {
   "cell_type": "code",
   "execution_count": null,
   "id": "514a3792",
   "metadata": {},
   "outputs": [],
   "source": [
    "def load(filename = \"newscaler.pickle\"): \n",
    "    try: \n",
    "        with open(filename, \"rb\") as f: \n",
    "            return pickle.load(f) \n",
    "        \n",
    "    except FileNotFoundError: \n",
    "        print(\"File not found!\")"
   ]
  },
  {
   "cell_type": "code",
   "execution_count": null,
   "id": "6a1cf2d9",
   "metadata": {},
   "outputs": [],
   "source": [
    "def play_song(next_song):\n",
    "    return IFrame(src=\"https://open.spotify.com/embed/track/\"+track_id,\n",
    "       width=\"320\",\n",
    "       height=\"80\",\n",
    "       frameborder=\"0\",\n",
    "       allowtransparency=\"true\",\n",
    "       allow=\"encrypted-media\",\n",
    "      )\n",
    "\n",
    "    return play_song(next_song)"
   ]
  },
  {
   "cell_type": "code",
   "execution_count": null,
   "id": "3fb1c417",
   "metadata": {},
   "outputs": [],
   "source": [
    "newscaler = load('newscaler.pickle')"
   ]
  },
  {
   "cell_type": "code",
   "execution_count": null,
   "id": "7bd6b9e1",
   "metadata": {},
   "outputs": [],
   "source": [
    "scaled_features = newscaler.trasnform(numeric_user_features)"
   ]
  },
  {
   "cell_type": "code",
   "execution_count": null,
   "id": "5a16a564",
   "metadata": {},
   "outputs": [],
   "source": [
    "#make a dataframe "
   ]
  },
  {
   "cell_type": "code",
   "execution_count": 71,
   "id": "8b71d375",
   "metadata": {},
   "outputs": [],
   "source": [
    "#load the kmean model "
   ]
  },
  {
   "cell_type": "code",
   "execution_count": null,
   "id": "cad17f79",
   "metadata": {},
   "outputs": [],
   "source": [
    "kmeans = load(filename = 'stotify_model.pickle')"
   ]
  },
  {
   "cell_type": "code",
   "execution_count": 72,
   "id": "dd87dfb4",
   "metadata": {},
   "outputs": [
    {
     "ename": "NameError",
     "evalue": "name 'kmeans' is not defined",
     "output_type": "error",
     "traceback": [
      "\u001b[0;31m---------------------------------------------------------------------------\u001b[0m",
      "\u001b[0;31mNameError\u001b[0m                                 Traceback (most recent call last)",
      "Cell \u001b[0;32mIn[72], line 1\u001b[0m\n\u001b[0;32m----> 1\u001b[0m predicted_cluster \u001b[38;5;241m=\u001b[39m kmeans\u001b[38;5;241m.\u001b[39mpredict(scaled_features)[\u001b[38;5;241m0\u001b[39m]\n",
      "\u001b[0;31mNameError\u001b[0m: name 'kmeans' is not defined"
     ]
    }
   ],
   "source": [
    "predicted_cluster = kmeans.predict(scaled_features)[0]\n",
    "predicted_cluster #should give me the cluster that the song belongs to "
   ]
  },
  {
   "cell_type": "code",
   "execution_count": null,
   "id": "ce8f6942",
   "metadata": {},
   "outputs": [],
   "source": [
    "X = pd.read_csv('genre_df.csv')"
   ]
  },
  {
   "cell_type": "code",
   "execution_count": null,
   "id": "a3f01286",
   "metadata": {},
   "outputs": [],
   "source": [
    "new_recommended = X[X['cluster']==predicted_cluster].sample()"
   ]
  },
  {
   "cell_type": "code",
   "execution_count": null,
   "id": "31a4fd61",
   "metadata": {},
   "outputs": [],
   "source": [
    "next_song = new_recommended['id'].values[0]"
   ]
  },
  {
   "cell_type": "code",
   "execution_count": null,
   "id": "a56605fe",
   "metadata": {},
   "outputs": [],
   "source": [
    "#call play function "
   ]
  },
  {
   "cell_type": "code",
   "execution_count": null,
   "id": "b526e312",
   "metadata": {},
   "outputs": [],
   "source": [
    "#desplay the song that is recommended "
   ]
  },
  {
   "cell_type": "code",
   "execution_count": null,
   "id": "0d4abeeb",
   "metadata": {},
   "outputs": [],
   "source": [
    "def play_song(track_id):\n",
    "    return IFrame(src=\"https://open.spotify.com/embed/track/\"+track_id,\n",
    "       width=\"320\",\n",
    "       height=\"80\",\n",
    "       frameborder=\"0\",\n",
    "       allowtransparency=\"true\",\n",
    "       allow=\"encrypted-media\",\n",
    "      )\n",
    "\n"
   ]
  },
  {
   "cell_type": "code",
   "execution_count": null,
   "id": "33df151f",
   "metadata": {},
   "outputs": [],
   "source": [
    "play_song(track_id)"
   ]
  },
  {
   "cell_type": "markdown",
   "id": "32e0e8f6",
   "metadata": {},
   "source": [
    "## other stuff"
   ]
  },
  {
   "cell_type": "code",
   "execution_count": 35,
   "id": "239fbea3",
   "metadata": {},
   "outputs": [
    {
     "name": "stdout",
     "output_type": "stream",
     "text": [
      "'Taylor Swift'\n"
     ]
    }
   ],
   "source": [
    "import pprint\n",
    "pprint.pprint(results['tracks']['items'][0]['album']['artists'][0]['name'])  #we get the artist name"
   ]
  },
  {
   "cell_type": "code",
   "execution_count": null,
   "id": "4fab19fc",
   "metadata": {},
   "outputs": [],
   "source": []
  },
  {
   "cell_type": "code",
   "execution_count": 36,
   "id": "56e1134a",
   "metadata": {},
   "outputs": [],
   "source": [
    "track_id = results[\"tracks\"][\"items\"][0][\"id\"]  #we get the id of the song "
   ]
  },
  {
   "cell_type": "code",
   "execution_count": 37,
   "id": "76281e90",
   "metadata": {},
   "outputs": [
    {
     "data": {
      "text/plain": [
       "'1dGr1c8CrMLDpV6mPbImSI'"
      ]
     },
     "execution_count": 37,
     "metadata": {},
     "output_type": "execute_result"
    }
   ],
   "source": [
    "track_id"
   ]
  },
  {
   "cell_type": "code",
   "execution_count": 38,
   "id": "97bb94a0",
   "metadata": {},
   "outputs": [],
   "source": [
    "def play_song(track_id):\n",
    "    return IFrame(src=\"https://open.spotify.com/embed/track/\"+track_id,\n",
    "       width=\"320\",\n",
    "       height=\"80\",\n",
    "       frameborder=\"0\",\n",
    "       allowtransparency=\"true\",\n",
    "       allow=\"encrypted-media\",\n",
    "      )\n",
    "\n"
   ]
  },
  {
   "cell_type": "code",
   "execution_count": 39,
   "id": "026d159f",
   "metadata": {},
   "outputs": [
    {
     "data": {
      "text/html": [
       "\n",
       "        <iframe\n",
       "            width=\"320\"\n",
       "            height=\"80\"\n",
       "            src=\"https://open.spotify.com/embed/track/1dGr1c8CrMLDpV6mPbImSI?frameborder=0&allowtransparency=true&allow=encrypted-media\"\n",
       "            frameborder=\"0\"\n",
       "            allowfullscreen\n",
       "            \n",
       "        ></iframe>\n",
       "        "
      ],
      "text/plain": [
       "<IPython.lib.display.IFrame at 0x7f8cb4718d90>"
      ]
     },
     "execution_count": 39,
     "metadata": {},
     "output_type": "execute_result"
    }
   ],
   "source": [
    "play_song(track_id)"
   ]
  },
  {
   "cell_type": "code",
   "execution_count": null,
   "id": "70df964b",
   "metadata": {},
   "outputs": [],
   "source": []
  }
 ],
 "metadata": {
  "kernelspec": {
   "display_name": "Python 3 (ipykernel)",
   "language": "python",
   "name": "python3"
  },
  "language_info": {
   "codemirror_mode": {
    "name": "ipython",
    "version": 3
   },
   "file_extension": ".py",
   "mimetype": "text/x-python",
   "name": "python",
   "nbconvert_exporter": "python",
   "pygments_lexer": "ipython3",
   "version": "3.11.4"
  }
 },
 "nbformat": 4,
 "nbformat_minor": 5
}
